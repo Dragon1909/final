{
 "cells": [
  {
   "cell_type": "markdown",
   "metadata": {},
   "source": [
    "## [Indian Institute of Quantitative Finance](https://www.iiqf.org/)\n",
    "## [Center of Finance Excellence - Quantitative Finance and Risk Management](https://www.iiqf.org/)\n",
    "\n",
    "<img src=\"IIQF.jpg\" alt=\"drawing\" style=\"width:300px;\"/>"
   ]
  },
  {
   "cell_type": "markdown",
   "metadata": {},
   "source": [
    "<img src=\"IIQF_LOGO.jpg\" alt=\"drawing\" style=\"width:300px;\"/>"
   ]
  },
  {
   "cell_type": "markdown",
   "metadata": {},
   "source": [
    "### Pycharm\n",
    "\n",
    "- Pycharm is an IDE(Integrated Development Environment) by Jetbrains.\n",
    "\n",
    "- It is used for development in Python and frameworks like DJango.\n",
    "\n",
    "- You can customize it with themes and plugins.\n",
    "\n",
    "- It lets you to enhance productivity while coding by providing some features like suggestions, Local VCS etc.\n",
    "\n",
    "- To set it up, you first need to install Python 2.X or 3.x.\n",
    "\n",
    "- If you are a beginner, I would recommend you to use PyCharm as it will ease your learning. Plus it's advanced features will ease development process."
   ]
  },
  {
   "cell_type": "code",
   "execution_count": null,
   "metadata": {},
   "outputs": [],
   "source": []
  }
 ],
 "metadata": {
  "kernelspec": {
   "display_name": "Python [conda env:anaconda3]",
   "language": "python",
   "name": "conda-env-anaconda3-py"
  },
  "language_info": {
   "codemirror_mode": {
    "name": "ipython",
    "version": 3
   },
   "file_extension": ".py",
   "mimetype": "text/x-python",
   "name": "python",
   "nbconvert_exporter": "python",
   "pygments_lexer": "ipython3",
   "version": "3.6.5"
  }
 },
 "nbformat": 4,
 "nbformat_minor": 2
}
